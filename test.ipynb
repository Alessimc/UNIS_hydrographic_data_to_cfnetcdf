{
 "cells": [
  {
   "cell_type": "code",
   "execution_count": 12,
   "metadata": {},
   "outputs": [
    {
     "name": "stdout",
     "output_type": "stream",
     "text": [
      "<xarray.Dataset> Size: 13GB\n",
      "Dimensions:      (PRES: 7225, TIME: 76708, CALIBRATION: 2)\n",
      "Coordinates:\n",
      "  * PRES         (PRES) float64 58kB 1.0 2.0 3.0 ... 7.224e+03 7.225e+03\n",
      "  * TIME         (TIME) datetime64[ns] 614kB 1876-07-10T00:00:01.000004608 .....\n",
      "    CALIBRATION  (CALIBRATION, TIME) float64 1MB ...\n",
      "Data variables:\n",
      "    STATION      (TIME) |S25 2MB ...\n",
      "    LATITUDE     (TIME) float64 614kB ...\n",
      "    LONGITUDE    (TIME) float64 614kB ...\n",
      "    TEMP         (TIME, PRES) float64 4GB ...\n",
      "    PSAL         (TIME, PRES) float64 4GB ...\n",
      "    CNDC         (TIME, PRES) float64 4GB ...\n",
      "    FDEP         (TIME) float64 614kB ...\n",
      "    SHIP         (TIME) |S52 4MB ...\n",
      "    SHIPID       (TIME) float32 307kB ...\n",
      "    OWNER        (TIME) |S31 2MB ...\n",
      "    CRUISE       (TIME) |S47 4MB ...\n",
      "    TYPE         (TIME) |S47 4MB ...\n",
      "Attributes: (12/38)\n",
      "    cruise_ID:                     \n",
      "    instrument:                    Shipborne observation\n",
      "    institution:                   The University Centre in Svalbard, Norway\n",
      "    project:                       \n",
      "    data_assembly_center:          GOVERNMENT AGENCIES-NON-US>NORWAY>>>NO/UNIS\n",
      "    naming_authority:              The University Centre in Svalbard, Norway\n",
      "    ...                            ...\n",
      "    keywords:                      EARTH SCIENCE>OCEANS>OCEAN TEMPERATURE>WAT...\n",
      "    iso_topic_category:            oceans\n",
      "    license:                       CC-BY 4.0 https://creativecommons.org/lice...\n",
      "    history:                       \n",
      "    comment:                       \n",
      "    references:                    Backhaus, Jan (2018): Physical oceanograph...\n"
     ]
    }
   ],
   "source": [
    "from pathlib import Path\n",
    "import xarray as xr\n",
    "import numpy as np\n",
    "\n",
    "# in and out file paths \n",
    "original_data_dir = Path('data/original_data')\n",
    "\n",
    "in_file = original_data_dir / 'CTD_all_1876-2019.nc'\n",
    "\n",
    "transformed_data_dir = Path('data/transformed_data')\n",
    "\n",
    "out_file = transformed_data_dir / 'CTD_all_1876-2019.nc'\n",
    "\n",
    "\n",
    "#load in dataset\n",
    "xrds = xr.open_dataset(in_file)\n",
    "\n",
    "print(xrds)"
   ]
  },
  {
   "cell_type": "code",
   "execution_count": 13,
   "metadata": {},
   "outputs": [
    {
     "name": "stdout",
     "output_type": "stream",
     "text": [
      "<xarray.DataArray 'CAST' (CAST: 76708)> Size: 614kB\n",
      "array([    1,     2,     3, ..., 66734, 66735, 66736])\n",
      "Coordinates:\n",
      "  * CAST     (CAST) int64 614kB 1 2 3 4 5 5 ... 66732 66733 66734 66735 66736\n",
      "[ 1  2  3  4  5  6  7  8  9 10]\n",
      "The NetCDF file has been successfully modified and saved as 'output.nc'.\n"
     ]
    }
   ],
   "source": [
    "\n",
    "\n",
    "# Generate a unique integer CAST value for each time point\n",
    "cast_values = np.arange(1, len(xrds['TIME']) + 1)\n",
    "\n",
    "# Create a new CAST dimension with integer values\n",
    "xrds = xrds.rename({'TIME': 'CAST'})\n",
    "\n",
    "# Move the original TIME to a data variable that is CAST dependent\n",
    "xrds['TIME'] = (('CAST',), xrds['CAST'].values)\n",
    "\n",
    "# Assign integer CAST values\n",
    "xrds['CAST'] = (('CAST',), cast_values)\n",
    "\n",
    "# Modify the dimensions of data variables to be dependent on 'CAST' instead of 'TIME'\n",
    "data_vars_to_reshape = [var for var in xrds.data_vars if 'CAST' in xrds[var].dims]\n",
    "\n",
    "for var in data_vars_to_reshape:\n",
    "    xrds[var] = xrds[var].rename({'CAST': 'CAST'})\n",
    "\n",
    "# Save the modified dataset to a new NetCDF file\n",
    "# xrds.to_netcdf('output.nc')\n",
    "print(xrds['CAST'])\n",
    "print(cast_values[:10])\n",
    "print(\"The NetCDF file has been successfully modified and saved as 'output.nc'.\")"
   ]
  },
  {
   "cell_type": "code",
   "execution_count": null,
   "metadata": {},
   "outputs": [],
   "source": []
  }
 ],
 "metadata": {
  "kernelspec": {
   "display_name": "unis_hydrography",
   "language": "python",
   "name": "python3"
  },
  "language_info": {
   "codemirror_mode": {
    "name": "ipython",
    "version": 3
   },
   "file_extension": ".py",
   "mimetype": "text/x-python",
   "name": "python",
   "nbconvert_exporter": "python",
   "pygments_lexer": "ipython3",
   "version": "3.10.12"
  }
 },
 "nbformat": 4,
 "nbformat_minor": 2
}
