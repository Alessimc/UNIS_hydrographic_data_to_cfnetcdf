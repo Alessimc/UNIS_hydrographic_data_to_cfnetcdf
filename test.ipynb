{
 "cells": [
  {
   "cell_type": "code",
   "execution_count": 10,
   "metadata": {},
   "outputs": [
    {
     "name": "stdout",
     "output_type": "stream",
     "text": [
      "<xarray.Dataset> Size: 13GB\n",
      "Dimensions:      (PRES: 7225, TIME: 76708, CALIBRATION: 2)\n",
      "Coordinates:\n",
      "  * PRES         (PRES) float64 58kB 1.0 2.0 3.0 ... 7.224e+03 7.225e+03\n",
      "  * TIME         (TIME) datetime64[ns] 614kB 1876-07-10T00:00:01.000004608 .....\n",
      "    CALIBRATION  (CALIBRATION, TIME) float64 1MB ...\n",
      "Data variables:\n",
      "    STATION      (TIME) |S25 2MB ...\n",
      "    LATITUDE     (TIME) float64 614kB ...\n",
      "    LONGITUDE    (TIME) float64 614kB ...\n",
      "    TEMP         (TIME, PRES) float64 4GB ...\n",
      "    PSAL         (TIME, PRES) float64 4GB ...\n",
      "    CNDC         (TIME, PRES) float64 4GB ...\n",
      "    FDEP         (TIME) float64 614kB ...\n",
      "    SHIP         (TIME) |S52 4MB ...\n",
      "    SHIPID       (TIME) float32 307kB ...\n",
      "    OWNER        (TIME) |S31 2MB ...\n",
      "    CRUISE       (TIME) |S47 4MB ...\n",
      "    TYPE         (TIME) |S47 4MB ...\n",
      "Attributes: (12/38)\n",
      "    cruise_ID:                     \n",
      "    instrument:                    Shipborne observation\n",
      "    institution:                   The University Centre in Svalbard, Norway\n",
      "    project:                       \n",
      "    data_assembly_center:          GOVERNMENT AGENCIES-NON-US>NORWAY>>>NO/UNIS\n",
      "    naming_authority:              The University Centre in Svalbard, Norway\n",
      "    ...                            ...\n",
      "    keywords:                      EARTH SCIENCE>OCEANS>OCEAN TEMPERATURE>WAT...\n",
      "    iso_topic_category:            oceans\n",
      "    license:                       CC-BY 4.0 https://creativecommons.org/lice...\n",
      "    history:                       \n",
      "    comment:                       \n",
      "    references:                    Backhaus, Jan (2018): Physical oceanograph...\n"
     ]
    }
   ],
   "source": [
    "from pathlib import Path\n",
    "import xarray as xr\n",
    "import numpy as np\n",
    "\n",
    "# in and out file paths \n",
    "original_data_dir = Path('data/original_data')\n",
    "\n",
    "in_file = original_data_dir / 'CTD_all_1876-2019.nc'\n",
    "\n",
    "transformed_data_dir = Path('data/transformed_data')\n",
    "\n",
    "out_file = transformed_data_dir / 'CTD_all_1876-2019.nc'\n",
    "\n",
    "\n",
    "#load in dataset\n",
    "xrds = xr.open_dataset(in_file)\n",
    "\n",
    "print(xrds)"
   ]
  },
  {
   "cell_type": "code",
   "execution_count": 11,
   "metadata": {},
   "outputs": [
    {
     "name": "stdout",
     "output_type": "stream",
     "text": [
      "<xarray.DataArray 'CAST' (CAST: 76708)> Size: 614kB\n",
      "array([    1,     2,     3, ..., 76706, 76707, 76708])\n",
      "Coordinates:\n",
      "  * CAST     (CAST) int64 614kB 1 2 3 4 5 6 ... 76704 76705 76706 76707 76708\n",
      "[ 1  2  3  4  5  6  7  8  9 10]\n",
      "The NetCDF file has been successfully modified and saved as 'output.nc'.\n"
     ]
    }
   ],
   "source": [
    "\n",
    "\n",
    "# Generate a unique integer CAST value for each time point\n",
    "cast_values = np.arange(1, len(xrds['TIME']) + 1)\n",
    "\n",
    "# Create a new CAST dimension with integer values\n",
    "xrds = xrds.rename({'TIME': 'CAST'})\n",
    "\n",
    "# Move the original TIME to a data variable that is CAST dependent\n",
    "xrds['TIME'] = (('CAST',), xrds['CAST'].values)\n",
    "\n",
    "# Assign integer CAST values\n",
    "xrds['CAST'] = (('CAST',), cast_values)\n",
    "\n",
    "# Modify the dimensions of data variables to be dependent on 'CAST' instead of 'TIME'\n",
    "data_vars_to_reshape = [var for var in xrds.data_vars if 'CAST' in xrds[var].dims]\n",
    "\n",
    "for var in data_vars_to_reshape:\n",
    "    xrds[var] = xrds[var].rename({'CAST': 'CAST'})\n",
    "\n",
    "# Save the modified dataset to a new NetCDF file\n",
    "# xrds.to_netcdf('output.nc')\n",
    "print(xrds['CAST'])\n",
    "print(cast_values[:10])\n",
    "print(\"The NetCDF file has been successfully modified and saved as 'output.nc'.\")"
   ]
  },
  {
   "cell_type": "code",
   "execution_count": 12,
   "metadata": {},
   "outputs": [
    {
     "name": "stdout",
     "output_type": "stream",
     "text": [
      "1876-07-10T00:00:01.000004608\n",
      "1880-07-08T00:00:01.000004608\n",
      "1890-07-02T00:00:01.000004608\n",
      "1890-07-05T00:00:01.000004608\n",
      "1890-07-08T00:00:01.000004608\n",
      "1890-07-08T00:00:01.000004608\n",
      "1890-07-08T00:00:01.000004608\n",
      "1890-07-10T00:00:01.000004608\n",
      "1890-07-10T00:00:01.000004608\n",
      "1890-07-21T00:00:01.000004608\n"
     ]
    }
   ],
   "source": [
    "for cast in range(1,11):\n",
    "    time_value = xrds['TIME'].sel(CAST=cast).values\n",
    "    print(time_value)"
   ]
  },
  {
   "cell_type": "code",
   "execution_count": 13,
   "metadata": {},
   "outputs": [
    {
     "name": "stdout",
     "output_type": "stream",
     "text": [
      "data/transformed_data/CTD_all_1876-2019.nc is missing or has empty the following required attributes:\n",
      "  - publisher_name: Required if not hosted by MET (MISSING)\n",
      "  - publisher_email: Required if not hosted by MET (MISSING)\n",
      "  - publisher_url: Required if not hosted by MET (MISSING)\n"
     ]
    }
   ],
   "source": [
    "from check_for_met_ACDD import missing_MET_ACDD_attributes\n",
    "\n",
    "transformed_data_dir = Path('data/transformed_data')\n",
    "\n",
    "out_file = transformed_data_dir / 'CTD_all_1876-2019.nc'\n",
    "\n",
    "missing_MET_ACDD_attributes(out_file)"
   ]
  },
  {
   "cell_type": "code",
   "execution_count": 14,
   "metadata": {},
   "outputs": [
    {
     "name": "stdout",
     "output_type": "stream",
     "text": [
      "/home/alessioc/UNIS_hydrographic_data_to_cfnetcdf/data/transformed_data/CTD_1980-1989/UNIS_HD_19800106T034000_79_2.nc is missing or has empty the following required attributes:\n",
      "  - publisher_name: Required if not hosted by MET (MISSING)\n",
      "  - publisher_email: Required if not hosted by MET (MISSING)\n",
      "  - publisher_url: Required if not hosted by MET (MISSING)\n"
     ]
    }
   ],
   "source": [
    "\n",
    "\n",
    "missing_MET_ACDD_attributes('/home/alessioc/UNIS_hydrographic_data_to_cfnetcdf/data/transformed_data/CTD_1980-1989/UNIS_HD_19800106T034000_79_2.nc')"
   ]
  },
  {
   "cell_type": "markdown",
   "metadata": {},
   "source": [
    "## Checking transformed_data"
   ]
  },
  {
   "cell_type": "code",
   "execution_count": 22,
   "metadata": {},
   "outputs": [
    {
     "name": "stdout",
     "output_type": "stream",
     "text": [
      "Subdirectory: CTD_2000-2009\n",
      "All tests passed!\n",
      "All tests passed!\n",
      "All tests passed!\n",
      "All tests passed!\n",
      "All tests passed!\n",
      "All tests passed!\n",
      "All tests passed!\n",
      "All tests passed!\n",
      "All tests passed!\n",
      "All tests passed!\n"
     ]
    },
    {
     "ename": "KeyboardInterrupt",
     "evalue": "",
     "output_type": "error",
     "traceback": [
      "\u001b[0;31m---------------------------------------------------------------------------\u001b[0m",
      "\u001b[0;31mKeyboardInterrupt\u001b[0m                         Traceback (most recent call last)",
      "Cell \u001b[0;32mIn[22], line 25\u001b[0m\n\u001b[1;32m     21\u001b[0m \u001b[38;5;28;01mfor\u001b[39;00m nc_file \u001b[38;5;129;01min\u001b[39;00m nc_files:\n\u001b[1;32m     22\u001b[0m     \u001b[38;5;66;03m# print(f\"  .nc file: {nc_file.name}\")\u001b[39;00m\n\u001b[1;32m     23\u001b[0m     \u001b[38;5;66;03m# print(str(nc_file.name).split('_'))\u001b[39;00m\n\u001b[1;32m     24\u001b[0m     command \u001b[38;5;241m=\u001b[39m \u001b[38;5;124mf\u001b[39m\u001b[38;5;124m\"\u001b[39m\u001b[38;5;124mcompliance-checker --test=cf:1.7 \u001b[39m\u001b[38;5;132;01m{\u001b[39;00mnc_file\u001b[38;5;132;01m}\u001b[39;00m\u001b[38;5;124m\"\u001b[39m\n\u001b[0;32m---> 25\u001b[0m     result \u001b[38;5;241m=\u001b[39m \u001b[43msubprocess\u001b[49m\u001b[38;5;241;43m.\u001b[39;49m\u001b[43mrun\u001b[49m\u001b[43m(\u001b[49m\u001b[43mcommand\u001b[49m\u001b[43m,\u001b[49m\u001b[43m \u001b[49m\u001b[43mshell\u001b[49m\u001b[38;5;241;43m=\u001b[39;49m\u001b[38;5;28;43;01mTrue\u001b[39;49;00m\u001b[43m,\u001b[49m\u001b[43m \u001b[49m\u001b[43mcapture_output\u001b[49m\u001b[38;5;241;43m=\u001b[39;49m\u001b[38;5;28;43;01mTrue\u001b[39;49;00m\u001b[43m,\u001b[49m\u001b[43m \u001b[49m\u001b[43mtext\u001b[49m\u001b[38;5;241;43m=\u001b[39;49m\u001b[38;5;28;43;01mTrue\u001b[39;49;00m\u001b[43m)\u001b[49m\n\u001b[1;32m     26\u001b[0m     \u001b[38;5;66;03m# print(f'Files with unexpected errors: {len(unexpected_error_files)}', end='\\r')\u001b[39;00m\n\u001b[1;32m     27\u001b[0m \n\u001b[1;32m     28\u001b[0m     \u001b[38;5;66;03m# Check if the output matches the expected output\u001b[39;00m\n\u001b[1;32m     29\u001b[0m     \u001b[38;5;28mprint\u001b[39m(tests_passed)\n",
      "File \u001b[0;32m/usr/lib/python3.10/subprocess.py:505\u001b[0m, in \u001b[0;36mrun\u001b[0;34m(input, capture_output, timeout, check, *popenargs, **kwargs)\u001b[0m\n\u001b[1;32m    503\u001b[0m \u001b[38;5;28;01mwith\u001b[39;00m Popen(\u001b[38;5;241m*\u001b[39mpopenargs, \u001b[38;5;241m*\u001b[39m\u001b[38;5;241m*\u001b[39mkwargs) \u001b[38;5;28;01mas\u001b[39;00m process:\n\u001b[1;32m    504\u001b[0m     \u001b[38;5;28;01mtry\u001b[39;00m:\n\u001b[0;32m--> 505\u001b[0m         stdout, stderr \u001b[38;5;241m=\u001b[39m \u001b[43mprocess\u001b[49m\u001b[38;5;241;43m.\u001b[39;49m\u001b[43mcommunicate\u001b[49m\u001b[43m(\u001b[49m\u001b[38;5;28;43minput\u001b[39;49m\u001b[43m,\u001b[49m\u001b[43m \u001b[49m\u001b[43mtimeout\u001b[49m\u001b[38;5;241;43m=\u001b[39;49m\u001b[43mtimeout\u001b[49m\u001b[43m)\u001b[49m\n\u001b[1;32m    506\u001b[0m     \u001b[38;5;28;01mexcept\u001b[39;00m TimeoutExpired \u001b[38;5;28;01mas\u001b[39;00m exc:\n\u001b[1;32m    507\u001b[0m         process\u001b[38;5;241m.\u001b[39mkill()\n",
      "File \u001b[0;32m/usr/lib/python3.10/subprocess.py:1154\u001b[0m, in \u001b[0;36mPopen.communicate\u001b[0;34m(self, input, timeout)\u001b[0m\n\u001b[1;32m   1151\u001b[0m     endtime \u001b[38;5;241m=\u001b[39m \u001b[38;5;28;01mNone\u001b[39;00m\n\u001b[1;32m   1153\u001b[0m \u001b[38;5;28;01mtry\u001b[39;00m:\n\u001b[0;32m-> 1154\u001b[0m     stdout, stderr \u001b[38;5;241m=\u001b[39m \u001b[38;5;28;43mself\u001b[39;49m\u001b[38;5;241;43m.\u001b[39;49m\u001b[43m_communicate\u001b[49m\u001b[43m(\u001b[49m\u001b[38;5;28;43minput\u001b[39;49m\u001b[43m,\u001b[49m\u001b[43m \u001b[49m\u001b[43mendtime\u001b[49m\u001b[43m,\u001b[49m\u001b[43m \u001b[49m\u001b[43mtimeout\u001b[49m\u001b[43m)\u001b[49m\n\u001b[1;32m   1155\u001b[0m \u001b[38;5;28;01mexcept\u001b[39;00m \u001b[38;5;167;01mKeyboardInterrupt\u001b[39;00m:\n\u001b[1;32m   1156\u001b[0m     \u001b[38;5;66;03m# https://bugs.python.org/issue25942\u001b[39;00m\n\u001b[1;32m   1157\u001b[0m     \u001b[38;5;66;03m# See the detailed comment in .wait().\u001b[39;00m\n\u001b[1;32m   1158\u001b[0m     \u001b[38;5;28;01mif\u001b[39;00m timeout \u001b[38;5;129;01mis\u001b[39;00m \u001b[38;5;129;01mnot\u001b[39;00m \u001b[38;5;28;01mNone\u001b[39;00m:\n",
      "File \u001b[0;32m/usr/lib/python3.10/subprocess.py:2021\u001b[0m, in \u001b[0;36mPopen._communicate\u001b[0;34m(self, input, endtime, orig_timeout)\u001b[0m\n\u001b[1;32m   2014\u001b[0m     \u001b[38;5;28mself\u001b[39m\u001b[38;5;241m.\u001b[39m_check_timeout(endtime, orig_timeout,\n\u001b[1;32m   2015\u001b[0m                         stdout, stderr,\n\u001b[1;32m   2016\u001b[0m                         skip_check_and_raise\u001b[38;5;241m=\u001b[39m\u001b[38;5;28;01mTrue\u001b[39;00m)\n\u001b[1;32m   2017\u001b[0m     \u001b[38;5;28;01mraise\u001b[39;00m \u001b[38;5;167;01mRuntimeError\u001b[39;00m(  \u001b[38;5;66;03m# Impossible :)\u001b[39;00m\n\u001b[1;32m   2018\u001b[0m         \u001b[38;5;124m'\u001b[39m\u001b[38;5;124m_check_timeout(..., skip_check_and_raise=True) \u001b[39m\u001b[38;5;124m'\u001b[39m\n\u001b[1;32m   2019\u001b[0m         \u001b[38;5;124m'\u001b[39m\u001b[38;5;124mfailed to raise TimeoutExpired.\u001b[39m\u001b[38;5;124m'\u001b[39m)\n\u001b[0;32m-> 2021\u001b[0m ready \u001b[38;5;241m=\u001b[39m \u001b[43mselector\u001b[49m\u001b[38;5;241;43m.\u001b[39;49m\u001b[43mselect\u001b[49m\u001b[43m(\u001b[49m\u001b[43mtimeout\u001b[49m\u001b[43m)\u001b[49m\n\u001b[1;32m   2022\u001b[0m \u001b[38;5;28mself\u001b[39m\u001b[38;5;241m.\u001b[39m_check_timeout(endtime, orig_timeout, stdout, stderr)\n\u001b[1;32m   2024\u001b[0m \u001b[38;5;66;03m# XXX Rewrite these to use non-blocking I/O on the file\u001b[39;00m\n\u001b[1;32m   2025\u001b[0m \u001b[38;5;66;03m# objects; they are no longer using C stdio!\u001b[39;00m\n",
      "File \u001b[0;32m/usr/lib/python3.10/selectors.py:416\u001b[0m, in \u001b[0;36m_PollLikeSelector.select\u001b[0;34m(self, timeout)\u001b[0m\n\u001b[1;32m    414\u001b[0m ready \u001b[38;5;241m=\u001b[39m []\n\u001b[1;32m    415\u001b[0m \u001b[38;5;28;01mtry\u001b[39;00m:\n\u001b[0;32m--> 416\u001b[0m     fd_event_list \u001b[38;5;241m=\u001b[39m \u001b[38;5;28;43mself\u001b[39;49m\u001b[38;5;241;43m.\u001b[39;49m\u001b[43m_selector\u001b[49m\u001b[38;5;241;43m.\u001b[39;49m\u001b[43mpoll\u001b[49m\u001b[43m(\u001b[49m\u001b[43mtimeout\u001b[49m\u001b[43m)\u001b[49m\n\u001b[1;32m    417\u001b[0m \u001b[38;5;28;01mexcept\u001b[39;00m \u001b[38;5;167;01mInterruptedError\u001b[39;00m:\n\u001b[1;32m    418\u001b[0m     \u001b[38;5;28;01mreturn\u001b[39;00m ready\n",
      "\u001b[0;31mKeyboardInterrupt\u001b[0m: "
     ]
    }
   ],
   "source": [
    "import os\n",
    "import subprocess\n",
    "\n",
    "subdirs = [d for d in transformed_data_dir.iterdir() if d.is_dir()]\n",
    "\n",
    "\n",
    "unexpected_error_files = []\n",
    "\n",
    "# Loop through each subdirectory\n",
    "for subdir in subdirs:\n",
    "    print(f\"Subdirectory: {subdir.name}\")\n",
    "    \n",
    "    # List .nc files in the current subdirectory\n",
    "    nc_files = list(subdir.glob('*.nc'))\n",
    "    \n",
    "    tests_passed = 'All tests passed!'\n",
    "\n",
    "\n",
    "    \n",
    "    # Loop through each .nc file\n",
    "    for nc_file in nc_files:\n",
    "        # print(f\"  .nc file: {nc_file.name}\")\n",
    "        # print(str(nc_file.name).split('_'))\n",
    "        command = f\"compliance-checker --test=cf:1.7 {nc_file}\"\n",
    "        result = subprocess.run(command, shell=True, capture_output=True, text=True)\n",
    "        # print(f'Files with unexpected errors: {len(unexpected_error_files)}', end='\\r')\n",
    "\n",
    "        # Check if the output matches the expected output\n",
    "        if tests_passed != result.stdout.strip().split('\\n')[-1]:\n",
    "            print(f'ERRORS FOUND in file {nc_file}!')\n",
    "            unexpected_error_files.append(nc_file.name)\n",
    "        "
   ]
  },
  {
   "cell_type": "code",
   "execution_count": null,
   "metadata": {},
   "outputs": [],
   "source": []
  }
 ],
 "metadata": {
  "kernelspec": {
   "display_name": "unis_hydrography",
   "language": "python",
   "name": "python3"
  },
  "language_info": {
   "codemirror_mode": {
    "name": "ipython",
    "version": 3
   },
   "file_extension": ".py",
   "mimetype": "text/x-python",
   "name": "python",
   "nbconvert_exporter": "python",
   "pygments_lexer": "ipython3",
   "version": "3.10.12"
  }
 },
 "nbformat": 4,
 "nbformat_minor": 2
}
