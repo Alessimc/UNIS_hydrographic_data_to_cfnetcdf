{
 "cells": [
  {
   "cell_type": "code",
   "execution_count": 16,
   "metadata": {},
   "outputs": [
    {
     "name": "stdout",
     "output_type": "stream",
     "text": [
      "Subdirectory: CTD_2000-2009\n",
      "Subdirectory: CTD_2010-2019\n",
      "Subdirectory: CTD_1970-1979\n",
      "Subdirectory: CTD_1990-1999\n",
      "Subdirectory: CTD_1876-1969\n",
      "Subdirectory: CTD_1980-1989\n"
     ]
    }
   ],
   "source": [
    "from pathlib import Path\n",
    "import netCDF4 as nc\n",
    "\n",
    "transformed_data_dir = Path('data/transformed_data')\n",
    "\n",
    "# List subdirectories containing child files\n",
    "subdirs = [d for d in transformed_data_dir.iterdir() if d.is_dir()]\n",
    "\n",
    "def remove_time_conventions(file_path):\n",
    "    try:\n",
    "        # Open the netCDF file in append mode\n",
    "        dataset = nc.Dataset(file_path, 'a')\n",
    "\n",
    "        # Check if the TIME variable exists\n",
    "        if 'TIME' in dataset.variables:\n",
    "            time_var = dataset.variables['TIME']\n",
    "            if 'conventions' in time_var.ncattrs():\n",
    "                # Remove the 'conventions' attribute\n",
    "                del time_var.conventions\n",
    "\n",
    "        # Sync and close the dataset\n",
    "        dataset.sync()\n",
    "        dataset.close()\n",
    "    except Exception as e:\n",
    "        print(f\"Error removing conventions attribute: {e}\")\n",
    "        dataset.close()\n",
    "\n",
    "def fix_coordinates(file_path):\n",
    "    try:\n",
    "        # Open the netCDF file in append mode\n",
    "        dataset = nc.Dataset(file_path, 'a')\n",
    "\n",
    "        # List of variable names to update coordinates for\n",
    "        vars_to_update = ['CNDC'] #['TEMP', 'PSAL', 'FDEP', 'CNDC']\n",
    "\n",
    "        for var_name in vars_to_update:\n",
    "            if var_name in dataset.variables:\n",
    "                var = dataset.variables[var_name]\n",
    "                if 'coordinates' in var.ncattrs():\n",
    "                    # Remove the 'coordinates' attribute\n",
    "                    del var.coordinates\n",
    "\n",
    "        # Sync and close the dataset\n",
    "        dataset.sync()\n",
    "        dataset.close()\n",
    "    except Exception as e:\n",
    "        print(f\"Error removing coordinates attribute: {e}\")\n",
    "        dataset.close()\n",
    "\n",
    "# nc_file = '/home/alessioc/UNIS_hydrographic_data_to_cfnetcdf/data/transformed_data/CTD_1990-1999/UNIS_HD_19900130T233600_76_2.5.nc'\n",
    "# remove_time_conventions(nc_file)\n",
    "# fix_coordinates(nc_file)\n",
    "\n",
    "\n",
    "# Loop through each subdirectory\n",
    "for subdir in subdirs:\n",
    "    print(f\"Subdirectory: {subdir.name}\")\n",
    "\n",
    "    # List .nc files in the current subdirectory\n",
    "    nc_files = list(subdir.glob('*.nc'))\n",
    "\n",
    "    # Loop through each .nc file\n",
    "    for nc_file in nc_files:\n",
    "\n",
    "        #remove_time_conventions(nc_file)\n",
    "        fix_coordinates(nc_file)"
   ]
  },
  {
   "cell_type": "code",
   "execution_count": null,
   "metadata": {},
   "outputs": [],
   "source": []
  }
 ],
 "metadata": {
  "kernelspec": {
   "display_name": "unis_hydrography",
   "language": "python",
   "name": "python3"
  },
  "language_info": {
   "codemirror_mode": {
    "name": "ipython",
    "version": 3
   },
   "file_extension": ".py",
   "mimetype": "text/x-python",
   "name": "python",
   "nbconvert_exporter": "python",
   "pygments_lexer": "ipython3",
   "version": "3.10.12"
  }
 },
 "nbformat": 4,
 "nbformat_minor": 2
}
